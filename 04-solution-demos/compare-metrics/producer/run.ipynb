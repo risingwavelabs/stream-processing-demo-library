{
 "cells": [
  {
   "cell_type": "code",
   "execution_count": 2,
   "metadata": {},
   "outputs": [],
   "source": [
    "import subprocess\n",
    "import os"
   ]
  },
  {
   "cell_type": "code",
   "execution_count": 5,
   "metadata": {},
   "outputs": [
    {
     "name": "stdout",
     "output_type": "stream",
     "text": [
      "53 7\n",
      "15 15\n",
      "45 15\n"
     ]
    }
   ],
   "source": [
    "# Get the current directory\n",
    "current_directory = os.getcwd()\n",
    "\n",
    "# File paths for the Python files\n",
    "file1_path = os.path.join(current_directory, 'constant_data.py')\n",
    "file2_path = os.path.join(current_directory, 'varying_data.py')\n",
    "\n",
    "# Start file1.py in a separate process\n",
    "process1 = subprocess.Popen(['python3', file1_path])\n",
    "\n",
    "# Start file2.py in a separate process\n",
    "process2 = subprocess.Popen(['python3', file2_path])"
   ]
  }
 ],
 "metadata": {
  "kernelspec": {
   "display_name": "Python 3",
   "language": "python",
   "name": "python3"
  },
  "language_info": {
   "codemirror_mode": {
    "name": "ipython",
    "version": 3
   },
   "file_extension": ".py",
   "mimetype": "text/x-python",
   "name": "python",
   "nbconvert_exporter": "python",
   "pygments_lexer": "ipython3",
   "version": "3.10.5"
  },
  "orig_nbformat": 4
 },
 "nbformat": 4,
 "nbformat_minor": 2
}
